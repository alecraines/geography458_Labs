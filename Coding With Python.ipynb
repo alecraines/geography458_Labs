{
 "cells": [
  {
   "cell_type": "markdown",
   "metadata": {},
   "source": [
    "# Coding with Python\n",
    "### Alec Raines, Geography 458"
   ]
  },
  {
   "cell_type": "markdown",
   "metadata": {},
   "source": [
    "### Part 1: Getting Started\n",
    "One interesting jupyter notebook is [this one](anaconda.org/jbednar/census/notebook). It is visualizing the 2010 Census data of the United States through mapping population density and race. It is interesting to me because I find maps very interesting to look at, and through the author's process, he runs down the ways you can create a map using python and make it visually appealing while being descriptive.\n",
    "\n",
    "\n",
    "Python is able to utilize packages to enhance the function of scripts and add new functions. Here are a few of the most popular:\n",
    "\n",
    "[matplotlib](matplotlib.org): \"Matplotlib is a Python 2D plotting library... You can generate plots, histograms, power spectra, bar charts, error charts, scatterplots, etc., with just a few lines of code.\"\n",
    "\n",
    "[beautifulsoup](www.crummy.com/software/BeautifulSoup/bs4/doc/): Beautiful Soup is a python library used for parsing and scraping data off of websites.\n",
    "\n",
    "[pandas](pandas.pydata.org): Pandas is a library \"providing high-performance, easy-to-use data structures and data analysis tools.\"\n",
    "\n",
    "[plotly](plot.ly): Plot.ly is a library used to create web based interfaces and dashboards.\n",
    "\n",
    "\n",
    "R and Python are two of the most commonly used data analysis languages. However there are a few differences between the two:\n",
    "*To import a package, instead of installing the package through RStudio, you need to call the package at the beginning of the script. Ex: import pandas as pd.\n",
    "*Python is a scripting and programming language, whereas R is just a programming language.\n",
    "*The syntax for python relies on indentation."
   ]
  },
  {
   "cell_type": "markdown",
   "metadata": {},
   "source": [
    "### Part 2: Strings and Basic Syntax"
   ]
  },
  {
   "cell_type": "code",
   "execution_count": 58,
   "metadata": {},
   "outputs": [
    {
     "name": "stdout",
     "output_type": "stream",
     "text": [
      "66 huskies are cool\n",
      "66 HUSKIES ARE COOL\n",
      "66 huskies are cool\n",
      "There are  2 o's in this string.\n",
      "The word \"are\" is found at the  11 character.\n",
      "66 huskie\n",
      "huskies are cool\n",
      "huskies are awesome\n",
      "['huskies', 'are', 'awesome']\n",
      "['huskies', 'are', 'super', 'awesome']\n"
     ]
    }
   ],
   "source": [
    "a = 'huskies'\n",
    "b = 'are'\n",
    "c = 'cool'\n",
    "d = 66\n",
    "\n",
    "print(str(d), a, b, c)\n",
    "print(str(d), a.upper(), b.upper(), c.upper())\n",
    "\n",
    "lst = [str(d), a, b, c]\n",
    "\n",
    "lstStr = lst[0]+' '+lst[1]+' '+lst[2]+' '+lst[3]\n",
    "print(lstStr)\n",
    "print('There are ', lstStr.count('o'), 'o\\'s in this string.')\n",
    "print('The word \"are\" is found at the ', lstStr.find('are'), 'character.')\n",
    "\n",
    "print(lstStr[:len(lstStr)//2])\n",
    "\n",
    "stripStr = lstStr.strip('66 ')\n",
    "print(stripStr)\n",
    "replaceStr = stripStr.replace('cool', 'awesome')\n",
    "print(replaceStr)\n",
    "\n",
    "splitStr = replaceStr.split()\n",
    "print(splitStr)\n",
    "splitStr.insert(2, 'super')\n",
    "print(splitStr)"
   ]
  },
  {
   "cell_type": "markdown",
   "metadata": {},
   "source": [
    "### Part 3: Conditionals"
   ]
  },
  {
   "cell_type": "code",
   "execution_count": 59,
   "metadata": {},
   "outputs": [
    {
     "name": "stdout",
     "output_type": "stream",
     "text": [
      "83\n",
      "4th Quartile\n",
      "4th Quartile\n"
     ]
    }
   ],
   "source": [
    "import random\n",
    "\n",
    "randnum = random.randint(1, 100)\n",
    "print(randnum)\n",
    "\n",
    "if randnum < 25:\n",
    "    print('1st Quartile')\n",
    "elif randnum > 25 and randnum < 50:\n",
    "    print('2nd Quartile')\n",
    "elif randnum > 50 and randnum < 75:\n",
    "    print('3rd Quartile')\n",
    "elif randnum > 75 and randnum <= 100:\n",
    "    print('4th Quartile')\n",
    "    \n",
    "#could also be done as\n",
    "if randnum < 25:\n",
    "    print('1st Quartile')\n",
    "elif randnum > 25 and randnum < 50:\n",
    "    print('2nd Quartile')\n",
    "elif randnum > 50 and randnum < 75:\n",
    "    print('3rd Quartile')\n",
    "else:\n",
    "    print('4th Quartile')"
   ]
  },
  {
   "cell_type": "markdown",
   "metadata": {},
   "source": [
    "### Part 4: Loops"
   ]
  },
  {
   "cell_type": "code",
   "execution_count": 60,
   "metadata": {},
   "outputs": [
    {
     "name": "stdout",
     "output_type": "stream",
     "text": [
      "Warning, residents of Seattle, temperatures will reach sub-zero temperatures today, please stay indoors if possible.\n",
      "Warning, residents of Portland, temperatures will reach sub-zero temperatures today, please stay indoors if possible.\n",
      "Warning, residents of Los Angeles, temperatures will reach sub-zero temperatures today, please stay indoors if possible.\n",
      "Warning, residents of Sioux Falls, temperatures will reach sub-zero temperatures today, please stay indoors if possible.\n",
      "Warning, residents of Boise, temperatures will reach sub-zero temperatures today, please stay indoors if possible.\n",
      "Warning, residents of Denver, temperatures will reach sub-zero temperatures today, please stay indoors if possible.\n",
      "\n",
      "C://Users/Alec/Geog_458/Washington.shp\n",
      "C://Users/Alec/Geog_458/California.shp\n",
      "C://Users/Alec/Geog_458/Nevada.shp\n",
      "C://Users/Alec/Geog_458/Idaho.shp\n",
      "C://Users/Alec/Geog_458/Montana.shp\n",
      "C://Users/Alec/Geog_458/Utah.shp\n",
      "C://Users/Alec/Geog_458/Colorado.shp\n",
      "C://Users/Alec/Geog_458/New Mexico.shp\n",
      "\n",
      "['C://Users/Alec/Geog_458/Washington.shp', 'C://Users/Alec/Geog_458/California.shp', 'C://Users/Alec/Geog_458/Nevada.shp', 'C://Users/Alec/Geog_458/Idaho.shp', 'C://Users/Alec/Geog_458/Montana.shp', 'C://Users/Alec/Geog_458/Utah.shp', 'C://Users/Alec/Geog_458/Colorado.shp', 'C://Users/Alec/Geog_458/New Mexico.shp']\n",
      "\n",
      "T-minus 10\n",
      "T-minus 9\n",
      "T-minus 8\n",
      "T-minus 7\n",
      "T-minus 6\n",
      "T-minus 5\n",
      "T-minus 4\n",
      "T-minus 3\n",
      "T-minus 2\n",
      "T-minus 1\n",
      "T-minus 0\n"
     ]
    }
   ],
   "source": [
    "cities = ['Seattle', 'Portland', 'Los Angeles', 'Sioux Falls', 'Boise', 'Denver']\n",
    "\n",
    "for c in cities:\n",
    "    print('Warning, residents of ' + c + ', temperatures will reach sub-zero temperatures today, please stay indoors if possible.')\n",
    "\n",
    "print()\n",
    "\n",
    "places = ['Washington', 'California', 'Nevada', 'Idaho', 'Montana', 'Utah', 'Colorado', 'New Mexico'] \n",
    "filepath = []\n",
    "for p in places:\n",
    "    fp = 'C://Users/Alec/Geog_458/'+p+'.shp'\n",
    "    filepath.append(fp)\n",
    "    print(fp)\n",
    "print()  \n",
    "print(filepath)\n",
    "\n",
    "print()\n",
    "\n",
    "i = 10\n",
    "while i >= 0:\n",
    "    print('T-minus '+ str(i))\n",
    "    i -= 1"
   ]
  },
  {
   "cell_type": "markdown",
   "metadata": {},
   "source": [
    "### Part 5: Functions"
   ]
  },
  {
   "cell_type": "code",
   "execution_count": 61,
   "metadata": {},
   "outputs": [
    {
     "name": "stdout",
     "output_type": "stream",
     "text": [
      "T-minus 15\n",
      "T-minus 14\n",
      "T-minus 13\n",
      "T-minus 12\n",
      "T-minus 11\n",
      "T-minus 10\n",
      "T-minus 9\n",
      "T-minus 8\n",
      "T-minus 7\n",
      "T-minus 6\n",
      "T-minus 5\n",
      "T-minus 4\n",
      "T-minus 3\n",
      "T-minus 2\n",
      "T-minus 1\n",
      "\n",
      "1st Quartile\n",
      "2nd Quartile\n",
      "3rd Quartile\n",
      "4th Quartile\n",
      "Error: Number outside of range (0 - 100)\n"
     ]
    }
   ],
   "source": [
    "def countdown(count):\n",
    "    while count > 0:\n",
    "        print('T-minus ' + str(count))\n",
    "        count -= 1\n",
    "        \n",
    "def quartile_calc(num):\n",
    "    if num < 25:\n",
    "        print('1st Quartile')\n",
    "    elif num > 25 and num < 50:\n",
    "        print('2nd Quartile')\n",
    "    elif num > 50 and num < 75:\n",
    "        print('3rd Quartile')\n",
    "    elif num > 75 and num <= 100:\n",
    "        print('4th Quartile')\n",
    "    else:\n",
    "        print('Error: Number outside of range (0 - 100)')\n",
    "        \n",
    "countdown(15)\n",
    "print()\n",
    "quartile_calc(15)\n",
    "quartile_calc(42)\n",
    "quartile_calc(66)\n",
    "quartile_calc(85)\n",
    "quartile_calc(106)"
   ]
  },
  {
   "cell_type": "markdown",
   "metadata": {},
   "source": [
    "### Resources Utilized:\n",
    "https://www.programiz.com/python-programming/methods/string\n",
    "\n",
    "https://www.programiz.com/python-programming/methods/list\n",
    "\n",
    "https://stackoverflow.com/questions/31358564/finding-the-length-of-first-half-of-a-string-using-string-slicing-in-python"
   ]
  }
 ],
 "metadata": {
  "kernelspec": {
   "display_name": "Python 3",
   "language": "python",
   "name": "python3"
  },
  "language_info": {
   "codemirror_mode": {
    "name": "ipython",
    "version": 3
   },
   "file_extension": ".py",
   "mimetype": "text/x-python",
   "name": "python",
   "nbconvert_exporter": "python",
   "pygments_lexer": "ipython3",
   "version": "3.7.1"
  }
 },
 "nbformat": 4,
 "nbformat_minor": 2
}
